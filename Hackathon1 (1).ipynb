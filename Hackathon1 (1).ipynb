{
 "cells": [
  {
   "cell_type": "code",
   "execution_count": 2,
   "id": "82a69e93-68a1-4e97-850d-afe7ef4cd091",
   "metadata": {},
   "outputs": [],
   "source": [
    "import pandas as pd\n",
    "import numpy as np\n",
    "import matplotlib.pyplot as plt\n",
    "%matplotlib inline"
   ]
  },
  {
   "cell_type": "code",
   "execution_count": 3,
   "id": "bfbd7333-700e-4d4f-94c0-7d8315f135e1",
   "metadata": {},
   "outputs": [],
   "source": [
    "vaccinetrain=pd.read_csv('training_set_features.csv')"
   ]
  },
  {
   "cell_type": "code",
   "execution_count": 4,
   "id": "fae55d92-e0f5-411c-9a8a-46e20e04d19b",
   "metadata": {},
   "outputs": [],
   "source": [
    "vaccinetest=pd.read_csv('test_set_features.csv')"
   ]
  },
  {
   "cell_type": "code",
   "execution_count": 5,
   "id": "ca1f3697-b9e7-4d25-8675-8311d0112fce",
   "metadata": {},
   "outputs": [],
   "source": [
    "labels=pd.read_csv('training_set_labels.csv')"
   ]
  },
  {
   "cell_type": "code",
   "execution_count": 6,
   "id": "db91c7dc-ecc7-4180-aa56-a7a6aceaf511",
   "metadata": {},
   "outputs": [
    {
     "name": "stdout",
     "output_type": "stream",
     "text": [
      "(26707, 36)\n",
      "(26708, 36)\n",
      "(26707, 3)\n"
     ]
    }
   ],
   "source": [
    "print(vaccinetrain.shape)\n",
    "print(vaccinetest.shape)\n",
    "print(labels.shape)"
   ]
  },
  {
   "cell_type": "code",
   "execution_count": 7,
   "id": "06401bd6-aea2-4ea5-b69d-c76313d99242",
   "metadata": {},
   "outputs": [],
   "source": [
    "vaccinetrain['id']='train'\n",
    "vaccinetest['id']='test'"
   ]
  },
  {
   "cell_type": "code",
   "execution_count": 8,
   "id": "05aedfd3-773f-4bbb-afe9-44040f44eca9",
   "metadata": {},
   "outputs": [],
   "source": [
    "combinedf=pd.concat([vaccinetrain,vaccinetest],axis=0)"
   ]
  },
  {
   "cell_type": "code",
   "execution_count": 9,
   "id": "71b1c86a-46c4-4dcc-baf5-9406dabe3bad",
   "metadata": {},
   "outputs": [
    {
     "data": {
      "text/plain": [
       "employment_occupation          26896\n",
       "employment_industry            26605\n",
       "health_insurance               24502\n",
       "income_poverty                  8920\n",
       "doctor_recc_xyz                 4320\n",
       "doctor_recc_seasonal            4320\n",
       "rent_or_own                     4078\n",
       "employment_status               2934\n",
       "marital_status                  2850\n",
       "education                       2814\n",
       "chronic_med_condition           1903\n",
       "child_under_6_months            1633\n",
       "health_worker                   1593\n",
       "opinion_seas_sick_from_vacc     1058\n",
       "opinion_seas_risk               1013\n",
       "opinion_seas_vacc_effective      914\n",
       "opinion_xyz_vacc_effective       789\n",
       "opinion_xyz_sick_from_vacc       770\n",
       "opinion_xyz_risk                 768\n",
       "household_children               474\n",
       "household_adults                 474\n",
       "behavioral_avoidance             421\n",
       "behavioral_touch_face            256\n",
       "xyz_knowledge                    238\n",
       "xyz_concern                      177\n",
       "behavioral_outside_home          164\n",
       "behavioral_large_gatherings      159\n",
       "behavioral_antiviral_meds        150\n",
       "behavioral_wash_hands             82\n",
       "behavioral_face_mask              38\n",
       "census_msa                         0\n",
       "respondent_id                      0\n",
       "hhs_geo_region                     0\n",
       "sex                                0\n",
       "race                               0\n",
       "age_group                          0\n",
       "id                                 0\n",
       "dtype: int64"
      ]
     },
     "execution_count": 9,
     "metadata": {},
     "output_type": "execute_result"
    }
   ],
   "source": [
    "combinedf.isnull().sum().sort_values(ascending=False)"
   ]
  },
  {
   "cell_type": "code",
   "execution_count": 10,
   "id": "d6a89db4-f867-4383-99a4-c34c54e5fe1d",
   "metadata": {},
   "outputs": [
    {
     "name": "stdout",
     "output_type": "stream",
     "text": [
      "xyz_concern\n",
      "2.0    21318\n",
      "1.0    16311\n",
      "3.0     9114\n",
      "0.0     6495\n",
      "NaN      177\n",
      "Name: count, dtype: int64\n",
      "xyz_knowledge\n",
      "1.0    29227\n",
      "2.0    19002\n",
      "0.0     4948\n",
      "NaN      238\n",
      "Name: count, dtype: int64\n",
      "behavioral_antiviral_meds\n",
      "0.0    50642\n",
      "1.0     2623\n",
      "NaN      150\n",
      "Name: count, dtype: int64\n",
      "behavioral_avoidance\n",
      "1.0    38564\n",
      "0.0    14430\n",
      "NaN      421\n",
      "Name: count, dtype: int64\n",
      "behavioral_face_mask\n",
      "0.0    49687\n",
      "1.0     3690\n",
      "NaN       38\n",
      "Name: count, dtype: int64\n",
      "behavioral_wash_hands\n",
      "1.0    44045\n",
      "0.0     9288\n",
      "NaN       82\n",
      "Name: count, dtype: int64\n",
      "behavioral_large_gatherings\n",
      "0.0    34346\n",
      "1.0    18910\n",
      "NaN      159\n",
      "Name: count, dtype: int64\n",
      "behavioral_outside_home\n",
      "0.0    35291\n",
      "1.0    17960\n",
      "NaN      164\n",
      "Name: count, dtype: int64\n",
      "behavioral_touch_face\n",
      "1.0    36175\n",
      "0.0    16984\n",
      "NaN      256\n",
      "Name: count, dtype: int64\n",
      "doctor_recc_xyz\n",
      "0.0    38221\n",
      "1.0    10874\n",
      "NaN     4320\n",
      "Name: count, dtype: int64\n",
      "doctor_recc_seasonal\n",
      "0.0    32813\n",
      "1.0    16282\n",
      "NaN     4320\n",
      "Name: count, dtype: int64\n",
      "chronic_med_condition\n",
      "0.0    36978\n",
      "1.0    14534\n",
      "NaN     1903\n",
      "Name: count, dtype: int64\n",
      "child_under_6_months\n",
      "0.0    47409\n",
      "1.0     4373\n",
      "NaN     1633\n",
      "Name: count, dtype: int64\n",
      "health_worker\n",
      "0.0    46033\n",
      "1.0     5789\n",
      "NaN     1593\n",
      "Name: count, dtype: int64\n",
      "health_insurance\n",
      "1.0    25554\n",
      "NaN    24502\n",
      "0.0     3359\n",
      "Name: count, dtype: int64\n",
      "opinion_xyz_vacc_effective\n",
      "4.0    23417\n",
      "5.0    14231\n",
      "3.0     9513\n",
      "2.0     3658\n",
      "1.0     1807\n",
      "NaN      789\n",
      "Name: count, dtype: int64\n",
      "opinion_xyz_risk\n",
      "2.0    19861\n",
      "1.0    16346\n",
      "4.0    10659\n",
      "5.0     3434\n",
      "3.0     2347\n",
      "NaN      768\n",
      "Name: count, dtype: int64\n",
      "opinion_xyz_sick_from_vacc\n",
      "2.0    18306\n",
      "1.0    17933\n",
      "4.0    11760\n",
      "5.0     4337\n",
      "NaN      770\n",
      "3.0      309\n",
      "Name: count, dtype: int64\n",
      "opinion_seas_vacc_effective\n",
      "4.0    23131\n",
      "5.0    19970\n",
      "2.0     4490\n",
      "3.0     2537\n",
      "1.0     2373\n",
      "NaN      914\n",
      "Name: count, dtype: int64\n",
      "opinion_seas_risk\n",
      "2.0    18026\n",
      "4.0    15239\n",
      "1.0    11913\n",
      "5.0     5811\n",
      "3.0     1413\n",
      "NaN     1013\n",
      "Name: count, dtype: int64\n",
      "opinion_seas_sick_from_vacc\n",
      "1.0    23447\n",
      "2.0    15422\n",
      "4.0     9799\n",
      "5.0     3503\n",
      "NaN     1058\n",
      "3.0      186\n",
      "Name: count, dtype: int64\n",
      "age_group\n",
      "65+ Years        13561\n",
      "55 - 64 Years    11092\n",
      "45 - 54 Years    10495\n",
      "18 - 34 Years    10449\n",
      "35 - 44 Years     7818\n",
      "Name: count, dtype: int64\n",
      "education\n",
      "College Graduate    20283\n",
      "Some College        14123\n",
      "12 Years            11496\n",
      "< 12 Years           4699\n",
      "NaN                  2814\n",
      "Name: count, dtype: int64\n",
      "race\n",
      "White                42523\n",
      "Black                 4292\n",
      "Hispanic              3458\n",
      "Other or Multiple     3142\n",
      "Name: count, dtype: int64\n",
      "sex\n",
      "Female    31692\n",
      "Male      21723\n",
      "Name: count, dtype: int64\n",
      "income_poverty\n",
      "<= $75,000, Above Poverty    25552\n",
      "> $75,000                    13673\n",
      "NaN                           8920\n",
      "Below Poverty                 5270\n",
      "Name: count, dtype: int64\n",
      "marital_status\n",
      "Married        27103\n",
      "Not Married    23462\n",
      "NaN             2850\n",
      "Name: count, dtype: int64\n",
      "rent_or_own\n",
      "Own     37457\n",
      "Rent    11880\n",
      "NaN      4078\n",
      "Name: count, dtype: int64\n",
      "employment_status\n",
      "Employed              27192\n",
      "Not in Labor Force    20323\n",
      "Unemployed             2966\n",
      "NaN                    2934\n",
      "Name: count, dtype: int64\n",
      "hhs_geo_region\n",
      "lzgpxyit    8660\n",
      "fpwskwrf    6506\n",
      "qufhixun    6166\n",
      "oxchjgsf    5846\n",
      "bhuqouqj    5713\n",
      "kbazzjca    5702\n",
      "mlyzmhmf    4426\n",
      "lrircsnp    4100\n",
      "atmpeygn    4019\n",
      "dqpwygqj    2277\n",
      "Name: count, dtype: int64\n",
      "census_msa\n",
      "MSA, Not Principle  City    23571\n",
      "MSA, Principle City         15669\n",
      "Non-MSA                     14175\n",
      "Name: count, dtype: int64\n",
      "household_adults\n",
      "1.0    29007\n",
      "0.0    15999\n",
      "2.0     5673\n",
      "3.0     2262\n",
      "NaN      474\n",
      "Name: count, dtype: int64\n",
      "household_children\n",
      "0.0    37243\n",
      "1.0     6403\n",
      "2.0     5744\n",
      "3.0     3551\n",
      "NaN      474\n",
      "Name: count, dtype: int64\n",
      "employment_industry\n",
      "NaN         26605\n",
      "fcxhlnwr     4952\n",
      "wxleyezf     3609\n",
      "ldnlellj     2455\n",
      "pxcmvdjn     2115\n",
      "arjwrbjb     1756\n",
      "atmlpfrs     1748\n",
      "xicduogh     1698\n",
      "mfikgejo     1263\n",
      "vjjrobsf     1094\n",
      "rucpziij     1061\n",
      "xqicxuve     1038\n",
      "saaquncn      676\n",
      "cfqqtusy      629\n",
      "nduyfdeo      578\n",
      "mcubkhph      537\n",
      "wlfvacwt      427\n",
      "dotnnunm      421\n",
      "haxffmxo      308\n",
      "msuufmds      256\n",
      "phxvnwax      170\n",
      "qnlwzans       19\n",
      "Name: count, dtype: int64\n",
      "employment_occupation\n",
      "NaN         26896\n",
      "xtkaffoo     3526\n",
      "mxkfnird     3070\n",
      "emcorrxb     2554\n",
      "cmhcxjea     2471\n",
      "xgwztkwe     2220\n",
      "hfxkjkmi     1491\n",
      "qxajmpny     1047\n",
      "xqwwgdyp      960\n",
      "uqqtjvyb      953\n",
      "kldqjyjy      915\n",
      "tfqavkke      790\n",
      "ccgxvspp      709\n",
      "ukymxvdu      701\n",
      "oijqvulv      690\n",
      "vlluhbov      679\n",
      "bxpfxfdn      662\n",
      "haliazsg      596\n",
      "rcertsgn      573\n",
      "dlvbwzss      472\n",
      "xzmlyyjv      464\n",
      "hodpvpew      461\n",
      "dcjcmpih      309\n",
      "pvmttkik      206\n",
      "Name: count, dtype: int64\n"
     ]
    }
   ],
   "source": [
    "for col in combinedf.drop(['respondent_id','id'],axis=1).columns:\n",
    "    freq=combinedf[col].value_counts(dropna=False)\n",
    "    print(freq)"
   ]
  },
  {
   "cell_type": "code",
   "execution_count": 11,
   "id": "3e6f7e4a-bb5f-47c8-a3e9-8248342cb04c",
   "metadata": {},
   "outputs": [
    {
     "data": {
      "text/plain": [
       "respondent_id                    int64\n",
       "xyz_concern                    float64\n",
       "xyz_knowledge                  float64\n",
       "behavioral_antiviral_meds      float64\n",
       "behavioral_avoidance           float64\n",
       "behavioral_face_mask           float64\n",
       "behavioral_wash_hands          float64\n",
       "behavioral_large_gatherings    float64\n",
       "behavioral_outside_home        float64\n",
       "behavioral_touch_face          float64\n",
       "doctor_recc_xyz                float64\n",
       "doctor_recc_seasonal           float64\n",
       "chronic_med_condition          float64\n",
       "child_under_6_months           float64\n",
       "health_worker                  float64\n",
       "health_insurance               float64\n",
       "opinion_xyz_vacc_effective     float64\n",
       "opinion_xyz_risk               float64\n",
       "opinion_xyz_sick_from_vacc     float64\n",
       "opinion_seas_vacc_effective    float64\n",
       "opinion_seas_risk              float64\n",
       "opinion_seas_sick_from_vacc    float64\n",
       "age_group                       object\n",
       "education                       object\n",
       "race                            object\n",
       "sex                             object\n",
       "income_poverty                  object\n",
       "marital_status                  object\n",
       "rent_or_own                     object\n",
       "employment_status               object\n",
       "hhs_geo_region                  object\n",
       "census_msa                      object\n",
       "household_adults               float64\n",
       "household_children             float64\n",
       "employment_industry             object\n",
       "employment_occupation           object\n",
       "id                              object\n",
       "dtype: object"
      ]
     },
     "execution_count": 11,
     "metadata": {},
     "output_type": "execute_result"
    }
   ],
   "source": [
    "combinedf.dtypes"
   ]
  },
  {
   "cell_type": "code",
   "execution_count": 12,
   "id": "7ac81b17-9625-46f9-b8e4-362a1bf9f630",
   "metadata": {},
   "outputs": [],
   "source": [
    "from sklearn.preprocessing import LabelEncoder"
   ]
  },
  {
   "cell_type": "code",
   "execution_count": 13,
   "id": "58da2d79-9d0b-4755-9273-5e1178f2abed",
   "metadata": {},
   "outputs": [],
   "source": [
    "stringcols=combinedf.drop(['respondent_id','id'],axis=1)"
   ]
  },
  {
   "cell_type": "code",
   "execution_count": 14,
   "id": "254462e2-a1ab-4498-9e3b-295182afee5b",
   "metadata": {},
   "outputs": [],
   "source": [
    "stringcols=stringcols.astype(str).apply(lambda series:pd.Series(\n",
    "    LabelEncoder().fit_transform(series[series.notnull()]),\n",
    "    index=series[series.notnull()].index))\n",
    "    "
   ]
  },
  {
   "cell_type": "code",
   "execution_count": 15,
   "id": "d617d135-3fc2-4f92-88f1-8098a4beb130",
   "metadata": {},
   "outputs": [],
   "source": [
    "from sklearn.impute import KNNImputer"
   ]
  },
  {
   "cell_type": "code",
   "execution_count": 16,
   "id": "f5a90d98-610a-4a77-bb3a-2ee23117a0ce",
   "metadata": {},
   "outputs": [],
   "source": [
    "imputer=KNNImputer()"
   ]
  },
  {
   "cell_type": "code",
   "execution_count": 17,
   "id": "c6eb9f01-7e84-46f6-bffe-b18d4a302fab",
   "metadata": {},
   "outputs": [],
   "source": [
    "stringcolsimp=imputer.fit_transform(stringcols)"
   ]
  },
  {
   "cell_type": "code",
   "execution_count": 18,
   "id": "e108664f-5eed-412d-ab90-8e67575deb5a",
   "metadata": {},
   "outputs": [
    {
     "data": {
      "text/plain": [
       "xyz_concern                    0\n",
       "marital_status                 0\n",
       "opinion_seas_sick_from_vacc    0\n",
       "age_group                      0\n",
       "education                      0\n",
       "race                           0\n",
       "sex                            0\n",
       "income_poverty                 0\n",
       "rent_or_own                    0\n",
       "opinion_seas_vacc_effective    0\n",
       "employment_status              0\n",
       "hhs_geo_region                 0\n",
       "census_msa                     0\n",
       "household_adults               0\n",
       "household_children             0\n",
       "employment_industry            0\n",
       "opinion_seas_risk              0\n",
       "opinion_xyz_sick_from_vacc     0\n",
       "xyz_knowledge                  0\n",
       "behavioral_touch_face          0\n",
       "behavioral_antiviral_meds      0\n",
       "behavioral_avoidance           0\n",
       "behavioral_face_mask           0\n",
       "behavioral_wash_hands          0\n",
       "behavioral_large_gatherings    0\n",
       "behavioral_outside_home        0\n",
       "doctor_recc_xyz                0\n",
       "opinion_xyz_risk               0\n",
       "doctor_recc_seasonal           0\n",
       "chronic_med_condition          0\n",
       "child_under_6_months           0\n",
       "health_worker                  0\n",
       "health_insurance               0\n",
       "opinion_xyz_vacc_effective     0\n",
       "employment_occupation          0\n",
       "dtype: int64"
      ]
     },
     "execution_count": 18,
     "metadata": {},
     "output_type": "execute_result"
    }
   ],
   "source": [
    "stringcols.isnull().sum().sort_values(ascending=False)"
   ]
  },
  {
   "cell_type": "code",
   "execution_count": 19,
   "id": "2829adef-96a9-418a-8f1c-43f1892a5b25",
   "metadata": {},
   "outputs": [],
   "source": [
    "stringcolsimp=pd.DataFrame(stringcolsimp,columns=stringcols.columns)"
   ]
  },
  {
   "cell_type": "code",
   "execution_count": 20,
   "id": "f6a660c2-7b03-4f2f-807f-daa504a3f010",
   "metadata": {},
   "outputs": [
    {
     "name": "stdout",
     "output_type": "stream",
     "text": [
      "xyz_concern\n",
      "2.0    21318\n",
      "1.0    16311\n",
      "3.0     9114\n",
      "0.0     6495\n",
      "4.0      177\n",
      "Name: count, dtype: int64\n",
      "xyz_knowledge\n",
      "1.0    29227\n",
      "2.0    19002\n",
      "0.0     4948\n",
      "3.0      238\n",
      "Name: count, dtype: int64\n",
      "behavioral_antiviral_meds\n",
      "0.0    50642\n",
      "1.0     2623\n",
      "2.0      150\n",
      "Name: count, dtype: int64\n",
      "behavioral_avoidance\n",
      "1.0    38564\n",
      "0.0    14430\n",
      "2.0      421\n",
      "Name: count, dtype: int64\n",
      "behavioral_face_mask\n",
      "0.0    49687\n",
      "1.0     3690\n",
      "2.0       38\n",
      "Name: count, dtype: int64\n",
      "behavioral_wash_hands\n",
      "1.0    44045\n",
      "0.0     9288\n",
      "2.0       82\n",
      "Name: count, dtype: int64\n",
      "behavioral_large_gatherings\n",
      "0.0    34346\n",
      "1.0    18910\n",
      "2.0      159\n",
      "Name: count, dtype: int64\n",
      "behavioral_outside_home\n",
      "0.0    35291\n",
      "1.0    17960\n",
      "2.0      164\n",
      "Name: count, dtype: int64\n",
      "behavioral_touch_face\n",
      "1.0    36175\n",
      "0.0    16984\n",
      "2.0      256\n",
      "Name: count, dtype: int64\n",
      "doctor_recc_xyz\n",
      "0.0    38221\n",
      "1.0    10874\n",
      "2.0     4320\n",
      "Name: count, dtype: int64\n",
      "doctor_recc_seasonal\n",
      "0.0    32813\n",
      "1.0    16282\n",
      "2.0     4320\n",
      "Name: count, dtype: int64\n",
      "chronic_med_condition\n",
      "0.0    36978\n",
      "1.0    14534\n",
      "2.0     1903\n",
      "Name: count, dtype: int64\n",
      "child_under_6_months\n",
      "0.0    47409\n",
      "1.0     4373\n",
      "2.0     1633\n",
      "Name: count, dtype: int64\n",
      "health_worker\n",
      "0.0    46033\n",
      "1.0     5789\n",
      "2.0     1593\n",
      "Name: count, dtype: int64\n",
      "health_insurance\n",
      "1.0    25554\n",
      "2.0    24502\n",
      "0.0     3359\n",
      "Name: count, dtype: int64\n",
      "opinion_xyz_vacc_effective\n",
      "3.0    23417\n",
      "4.0    14231\n",
      "2.0     9513\n",
      "1.0     3658\n",
      "0.0     1807\n",
      "5.0      789\n",
      "Name: count, dtype: int64\n",
      "opinion_xyz_risk\n",
      "1.0    19861\n",
      "0.0    16346\n",
      "3.0    10659\n",
      "4.0     3434\n",
      "2.0     2347\n",
      "5.0      768\n",
      "Name: count, dtype: int64\n",
      "opinion_xyz_sick_from_vacc\n",
      "1.0    18306\n",
      "0.0    17933\n",
      "3.0    11760\n",
      "4.0     4337\n",
      "5.0      770\n",
      "2.0      309\n",
      "Name: count, dtype: int64\n",
      "opinion_seas_vacc_effective\n",
      "3.0    23131\n",
      "4.0    19970\n",
      "1.0     4490\n",
      "2.0     2537\n",
      "0.0     2373\n",
      "5.0      914\n",
      "Name: count, dtype: int64\n",
      "opinion_seas_risk\n",
      "1.0    18026\n",
      "3.0    15239\n",
      "0.0    11913\n",
      "4.0     5811\n",
      "2.0     1413\n",
      "5.0     1013\n",
      "Name: count, dtype: int64\n",
      "opinion_seas_sick_from_vacc\n",
      "0.0    23447\n",
      "1.0    15422\n",
      "3.0     9799\n",
      "4.0     3503\n",
      "5.0     1058\n",
      "2.0      186\n",
      "Name: count, dtype: int64\n",
      "age_group\n",
      "4.0    13561\n",
      "3.0    11092\n",
      "2.0    10495\n",
      "0.0    10449\n",
      "1.0     7818\n",
      "Name: count, dtype: int64\n",
      "education\n",
      "2.0    20283\n",
      "3.0    14123\n",
      "0.0    11496\n",
      "1.0     4699\n",
      "4.0     2814\n",
      "Name: count, dtype: int64\n",
      "race\n",
      "3.0    42523\n",
      "0.0     4292\n",
      "1.0     3458\n",
      "2.0     3142\n",
      "Name: count, dtype: int64\n",
      "sex\n",
      "0.0    31692\n",
      "1.0    21723\n",
      "Name: count, dtype: int64\n",
      "income_poverty\n",
      "0.0    25552\n",
      "1.0    13673\n",
      "3.0     8920\n",
      "2.0     5270\n",
      "Name: count, dtype: int64\n",
      "marital_status\n",
      "0.0    27103\n",
      "1.0    23462\n",
      "2.0     2850\n",
      "Name: count, dtype: int64\n",
      "rent_or_own\n",
      "0.0    37457\n",
      "1.0    11880\n",
      "2.0     4078\n",
      "Name: count, dtype: int64\n",
      "employment_status\n",
      "0.0    27192\n",
      "1.0    20323\n",
      "2.0     2966\n",
      "3.0     2934\n",
      "Name: count, dtype: int64\n",
      "hhs_geo_region\n",
      "6.0    8660\n",
      "3.0    6506\n",
      "9.0    6166\n",
      "8.0    5846\n",
      "1.0    5713\n",
      "4.0    5702\n",
      "7.0    4426\n",
      "5.0    4100\n",
      "0.0    4019\n",
      "2.0    2277\n",
      "Name: count, dtype: int64\n",
      "census_msa\n",
      "0.0    23571\n",
      "1.0    15669\n",
      "2.0    14175\n",
      "Name: count, dtype: int64\n",
      "household_adults\n",
      "1.0    29007\n",
      "0.0    15999\n",
      "2.0     5673\n",
      "3.0     2262\n",
      "4.0      474\n",
      "Name: count, dtype: int64\n",
      "household_children\n",
      "0.0    37243\n",
      "1.0     6403\n",
      "2.0     5744\n",
      "3.0     3551\n",
      "4.0      474\n",
      "Name: count, dtype: int64\n",
      "employment_industry\n",
      "10.0    26605\n",
      "4.0      4952\n",
      "19.0     3609\n",
      "6.0      2455\n",
      "13.0     2115\n",
      "0.0      1756\n",
      "1.0      1748\n",
      "20.0     1698\n",
      "8.0      1263\n",
      "17.0     1094\n",
      "15.0     1061\n",
      "21.0     1038\n",
      "16.0      676\n",
      "2.0       629\n",
      "11.0      578\n",
      "7.0       537\n",
      "18.0      427\n",
      "3.0       421\n",
      "5.0       308\n",
      "9.0       256\n",
      "12.0      170\n",
      "14.0       19\n",
      "Name: count, dtype: int64\n",
      "employment_occupation\n",
      "11.0    26896\n",
      "22.0     3526\n",
      "10.0     3070\n",
      "5.0      2554\n",
      "2.0      2471\n",
      "20.0     2220\n",
      "7.0      1491\n",
      "14.0     1047\n",
      "21.0      960\n",
      "18.0      953\n",
      "9.0       915\n",
      "16.0      790\n",
      "1.0       709\n",
      "17.0      701\n",
      "12.0      690\n",
      "19.0      679\n",
      "0.0       662\n",
      "6.0       596\n",
      "15.0      573\n",
      "4.0       472\n",
      "23.0      464\n",
      "8.0       461\n",
      "3.0       309\n",
      "13.0      206\n",
      "Name: count, dtype: int64\n"
     ]
    }
   ],
   "source": [
    "for col in stringcolsimp.columns:\n",
    "    freq=stringcolsimp[col].value_counts(dropna=False)\n",
    "    print(freq)"
   ]
  },
  {
   "cell_type": "code",
   "execution_count": 21,
   "id": "48e4c320-fdb3-45a1-bf36-b36f84487f35",
   "metadata": {},
   "outputs": [
    {
     "data": {
      "text/html": [
       "<div>\n",
       "<style scoped>\n",
       "    .dataframe tbody tr th:only-of-type {\n",
       "        vertical-align: middle;\n",
       "    }\n",
       "\n",
       "    .dataframe tbody tr th {\n",
       "        vertical-align: top;\n",
       "    }\n",
       "\n",
       "    .dataframe thead th {\n",
       "        text-align: right;\n",
       "    }\n",
       "</style>\n",
       "<table border=\"1\" class=\"dataframe\">\n",
       "  <thead>\n",
       "    <tr style=\"text-align: right;\">\n",
       "      <th></th>\n",
       "      <th>index</th>\n",
       "      <th>id</th>\n",
       "    </tr>\n",
       "  </thead>\n",
       "  <tbody>\n",
       "    <tr>\n",
       "      <th>0</th>\n",
       "      <td>0</td>\n",
       "      <td>train</td>\n",
       "    </tr>\n",
       "    <tr>\n",
       "      <th>1</th>\n",
       "      <td>1</td>\n",
       "      <td>train</td>\n",
       "    </tr>\n",
       "    <tr>\n",
       "      <th>2</th>\n",
       "      <td>2</td>\n",
       "      <td>train</td>\n",
       "    </tr>\n",
       "    <tr>\n",
       "      <th>3</th>\n",
       "      <td>3</td>\n",
       "      <td>train</td>\n",
       "    </tr>\n",
       "    <tr>\n",
       "      <th>4</th>\n",
       "      <td>4</td>\n",
       "      <td>train</td>\n",
       "    </tr>\n",
       "    <tr>\n",
       "      <th>...</th>\n",
       "      <td>...</td>\n",
       "      <td>...</td>\n",
       "    </tr>\n",
       "    <tr>\n",
       "      <th>53410</th>\n",
       "      <td>26703</td>\n",
       "      <td>test</td>\n",
       "    </tr>\n",
       "    <tr>\n",
       "      <th>53411</th>\n",
       "      <td>26704</td>\n",
       "      <td>test</td>\n",
       "    </tr>\n",
       "    <tr>\n",
       "      <th>53412</th>\n",
       "      <td>26705</td>\n",
       "      <td>test</td>\n",
       "    </tr>\n",
       "    <tr>\n",
       "      <th>53413</th>\n",
       "      <td>26706</td>\n",
       "      <td>test</td>\n",
       "    </tr>\n",
       "    <tr>\n",
       "      <th>53414</th>\n",
       "      <td>26707</td>\n",
       "      <td>test</td>\n",
       "    </tr>\n",
       "  </tbody>\n",
       "</table>\n",
       "<p>53415 rows × 2 columns</p>\n",
       "</div>"
      ],
      "text/plain": [
       "       index     id\n",
       "0          0  train\n",
       "1          1  train\n",
       "2          2  train\n",
       "3          3  train\n",
       "4          4  train\n",
       "...      ...    ...\n",
       "53410  26703   test\n",
       "53411  26704   test\n",
       "53412  26705   test\n",
       "53413  26706   test\n",
       "53414  26707   test\n",
       "\n",
       "[53415 rows x 2 columns]"
      ]
     },
     "execution_count": 21,
     "metadata": {},
     "output_type": "execute_result"
    }
   ],
   "source": [
    "combinedf.id.reset_index()"
   ]
  },
  {
   "cell_type": "code",
   "execution_count": 26,
   "id": "41f9eaae-8e3d-4ad9-8ed0-b90233ac2d3d",
   "metadata": {},
   "outputs": [],
   "source": [
    "vaccinetraindf=stringcolsimp.loc[0:26706]\n"
   ]
  },
  {
   "cell_type": "code",
   "execution_count": 27,
   "id": "305e875c-be8f-4556-a229-049c6cf4d5d4",
   "metadata": {},
   "outputs": [],
   "source": [
    "vaccinetestdf=stringcolsimp.loc[26707:53415]"
   ]
  },
  {
   "cell_type": "code",
   "execution_count": 28,
   "id": "8f787a3a-9ccf-4e9c-92f8-5ef6929054cd",
   "metadata": {},
   "outputs": [
    {
     "name": "stdout",
     "output_type": "stream",
     "text": [
      "(26707, 35)\n"
     ]
    }
   ],
   "source": [
    "print(vaccinetraindf.shape)"
   ]
  },
  {
   "cell_type": "code",
   "execution_count": 29,
   "id": "4faeb75a-542c-4790-b828-813625006fb5",
   "metadata": {},
   "outputs": [
    {
     "name": "stdout",
     "output_type": "stream",
     "text": [
      "(26708, 35)\n"
     ]
    }
   ],
   "source": [
    "print(vaccinetestdf.shape)"
   ]
  },
  {
   "cell_type": "code",
   "execution_count": 30,
   "id": "5ac64500-1aa9-4e78-95bf-7d5d8327e6cc",
   "metadata": {},
   "outputs": [],
   "source": [
    "y=labels.seasonal_vaccine\n",
    "X=vaccinetraindf"
   ]
  },
  {
   "cell_type": "code",
   "execution_count": 34,
   "id": "ec33c260-36a6-4f79-a452-29a08c29f9c3",
   "metadata": {},
   "outputs": [],
   "source": [
    "from sklearn.linear_model import LogisticRegression"
   ]
  },
  {
   "cell_type": "code",
   "execution_count": 35,
   "id": "1541866a-60a8-4045-8b8a-985d0aa25758",
   "metadata": {},
   "outputs": [],
   "source": [
    "logit=LogisticRegression(max_iter=3000)"
   ]
  },
  {
   "cell_type": "code",
   "execution_count": 36,
   "id": "9585ec1b-b393-429e-841a-8934be432274",
   "metadata": {},
   "outputs": [],
   "source": [
    "logitmodel=logit.fit(X,y)"
   ]
  },
  {
   "cell_type": "code",
   "execution_count": 37,
   "id": "637280f3-33ea-4f99-b2c5-060513d29184",
   "metadata": {},
   "outputs": [
    {
     "data": {
      "text/plain": [
       "0.761036432396001"
      ]
     },
     "execution_count": 37,
     "metadata": {},
     "output_type": "execute_result"
    }
   ],
   "source": [
    "logitmodel.score(X,y)"
   ]
  },
  {
   "cell_type": "code",
   "execution_count": 40,
   "id": "f02215f7-c3b9-485d-8cf9-a64bb989d695",
   "metadata": {},
   "outputs": [],
   "source": [
    "logitpredict=logitmodel.predict(X)"
   ]
  },
  {
   "cell_type": "code",
   "execution_count": 41,
   "id": "5c6bf805-7e85-4cec-9087-88b1a359a485",
   "metadata": {},
   "outputs": [],
   "source": [
    "from sklearn.metrics import classification_report"
   ]
  },
  {
   "cell_type": "code",
   "execution_count": 42,
   "id": "be71378f-1d76-4838-9615-27fa2bf6318c",
   "metadata": {},
   "outputs": [
    {
     "name": "stdout",
     "output_type": "stream",
     "text": [
      "              precision    recall  f1-score   support\n",
      "\n",
      "           0       0.77      0.79      0.78     14272\n",
      "           1       0.75      0.73      0.74     12435\n",
      "\n",
      "    accuracy                           0.76     26707\n",
      "   macro avg       0.76      0.76      0.76     26707\n",
      "weighted avg       0.76      0.76      0.76     26707\n",
      "\n"
     ]
    }
   ],
   "source": [
    "print(classification_report(y,logitpredict))"
   ]
  },
  {
   "cell_type": "code",
   "execution_count": 43,
   "id": "625e64f0-4d8d-446d-a8d2-64648f461109",
   "metadata": {},
   "outputs": [
    {
     "data": {
      "text/plain": [
       "seasonal_vaccine\n",
       "0    14272\n",
       "1    12435\n",
       "Name: count, dtype: int64"
      ]
     },
     "execution_count": 43,
     "metadata": {},
     "output_type": "execute_result"
    }
   ],
   "source": [
    "y.value_counts()"
   ]
  },
  {
   "cell_type": "code",
   "execution_count": 44,
   "id": "1996205d-65e3-4757-b299-d160976fcd24",
   "metadata": {},
   "outputs": [],
   "source": [
    "from sklearn.naive_bayes import CategoricalNB"
   ]
  },
  {
   "cell_type": "code",
   "execution_count": 45,
   "id": "f328cc1a-2c60-41c5-836c-430c3c46d22e",
   "metadata": {},
   "outputs": [],
   "source": [
    "catnb=CategoricalNB()"
   ]
  },
  {
   "cell_type": "code",
   "execution_count": 46,
   "id": "d4c67289-1ad7-4111-98e8-80feb0e0b636",
   "metadata": {},
   "outputs": [],
   "source": [
    "catnbmodel=catnb.fit(X,y)"
   ]
  },
  {
   "cell_type": "code",
   "execution_count": 47,
   "id": "ce787714-7cc4-4d56-b164-a990d8d158f6",
   "metadata": {},
   "outputs": [
    {
     "data": {
      "text/plain": [
       "0.7545961732879021"
      ]
     },
     "execution_count": 47,
     "metadata": {},
     "output_type": "execute_result"
    }
   ],
   "source": [
    "catnbmodel.score(X,y)"
   ]
  },
  {
   "cell_type": "code",
   "execution_count": 49,
   "id": "4b8da62e-ce72-4b88-af82-8c42c7c03680",
   "metadata": {},
   "outputs": [],
   "source": [
    "catnbpredict=catnbmodel.predict(X)"
   ]
  },
  {
   "cell_type": "code",
   "execution_count": 50,
   "id": "1d1abb14-5307-4a4d-ae43-d5d5f5885d35",
   "metadata": {},
   "outputs": [
    {
     "name": "stdout",
     "output_type": "stream",
     "text": [
      "              precision    recall  f1-score   support\n",
      "\n",
      "           0       0.77      0.77      0.77     14272\n",
      "           1       0.73      0.74      0.74     12435\n",
      "\n",
      "    accuracy                           0.75     26707\n",
      "   macro avg       0.75      0.75      0.75     26707\n",
      "weighted avg       0.75      0.75      0.75     26707\n",
      "\n"
     ]
    }
   ],
   "source": [
    "print(classification_report(y,catnbpredict))"
   ]
  },
  {
   "cell_type": "code",
   "execution_count": 51,
   "id": "ffd21464-b431-4b4f-a11d-27bdd9f1049a",
   "metadata": {},
   "outputs": [],
   "source": [
    "y1=labels.xyz_vaccine"
   ]
  },
  {
   "cell_type": "code",
   "execution_count": 52,
   "id": "c8ee3e28-60ef-4c49-a0c2-07c63d57d524",
   "metadata": {},
   "outputs": [],
   "source": [
    "logitmodel2=logit.fit(X,y)"
   ]
  },
  {
   "cell_type": "code",
   "execution_count": 53,
   "id": "6766421a-e34a-47bf-81a7-a210084814a5",
   "metadata": {},
   "outputs": [
    {
     "data": {
      "text/plain": [
       "0.6258284344928295"
      ]
     },
     "execution_count": 53,
     "metadata": {},
     "output_type": "execute_result"
    }
   ],
   "source": [
    "logitmodel2.score(X,y1)"
   ]
  },
  {
   "cell_type": "code",
   "execution_count": null,
   "id": "e92f6a64-3b32-4e16-a8f1-f78510125084",
   "metadata": {},
   "outputs": [],
   "source": []
  }
 ],
 "metadata": {
  "kernelspec": {
   "display_name": "Python 3 (ipykernel)",
   "language": "python",
   "name": "python3"
  },
  "language_info": {
   "codemirror_mode": {
    "name": "ipython",
    "version": 3
   },
   "file_extension": ".py",
   "mimetype": "text/x-python",
   "name": "python",
   "nbconvert_exporter": "python",
   "pygments_lexer": "ipython3",
   "version": "3.11.7"
  }
 },
 "nbformat": 4,
 "nbformat_minor": 5
}
